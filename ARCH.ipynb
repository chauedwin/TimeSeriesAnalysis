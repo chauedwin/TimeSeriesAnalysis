{
 "cells": [
  {
   "cell_type": "markdown",
   "id": "1586c6f1",
   "metadata": {},
   "source": [
    "# Time Series Analysis Using ARCH"
   ]
  },
  {
   "cell_type": "markdown",
   "id": "a66fc348",
   "metadata": {},
   "source": [
    "While models such as ARIMA make the assumption of constant variance of data with respect to time, autoregressive conditional heteroscedascity (ARCH) models don't. Instead of modeling conditional/changing means in the data and the long term trends that are associated with them, ARCH - as the name suggests - models conditional **variances** and the long term trends in variations of the data. This is particularly useful when the data in question violates the assumption of constant variance with respect to time that ARIMA is built upon.  "
   ]
  }
 ],
 "metadata": {
  "kernelspec": {
   "display_name": "Python 3 (ipykernel)",
   "language": "python",
   "name": "python3"
  },
  "language_info": {
   "codemirror_mode": {
    "name": "ipython",
    "version": 3
   },
   "file_extension": ".py",
   "mimetype": "text/x-python",
   "name": "python",
   "nbconvert_exporter": "python",
   "pygments_lexer": "ipython3",
   "version": "3.9.6"
  }
 },
 "nbformat": 4,
 "nbformat_minor": 5
}
